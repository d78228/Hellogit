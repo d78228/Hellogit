{
 "cells": [
  {
   "cell_type": "code",
   "execution_count": 1,
   "metadata": {
    "scrolled": true
   },
   "outputs": [
    {
     "name": "stdout",
     "output_type": "stream",
     "text": [
      "Collecting https://github.com/s4w3d0ff/python-poloniex/archive/v0.4.6.zip\n",
      "  Downloading https://github.com/s4w3d0ff/python-poloniex/archive/v0.4.6.zip\n",
      "Requirement already satisfied (use --upgrade to upgrade): poloniex==0.4.6 from https://github.com/s4w3d0ff/python-poloniex/archive/v0.4.6.zip in /usr/local/lib/python3.7/site-packages\n",
      "Requirement already satisfied: requests in /usr/local/lib/python3.7/site-packages (from poloniex==0.4.6) (2.19.1)\n",
      "Requirement already satisfied: urllib3<1.24,>=1.21.1 in /usr/local/lib/python3.7/site-packages (from requests->poloniex==0.4.6) (1.23)\n",
      "Requirement already satisfied: certifi>=2017.4.17 in /usr/local/lib/python3.7/site-packages (from requests->poloniex==0.4.6) (2018.4.16)\n",
      "Requirement already satisfied: chardet<3.1.0,>=3.0.2 in /usr/local/lib/python3.7/site-packages (from requests->poloniex==0.4.6) (3.0.4)\n",
      "Requirement already satisfied: idna<2.8,>=2.5 in /usr/local/lib/python3.7/site-packages (from requests->poloniex==0.4.6) (2.7)\n",
      "Building wheels for collected packages: poloniex\n",
      "  Running setup.py bdist_wheel for poloniex ... \u001b[?25ldone\n",
      "\u001b[?25h  Stored in directory: /private/var/folders/xv/g409x7ks5wn1kqjrxhg8d73c0000gp/T/pip-ephem-wheel-cache-zjsp8_59/wheels/59/c3/48/ac9242eb90b36a6c88082c1b319f9b14324b94c3c1152fdcff\n",
      "Successfully built poloniex\n"
     ]
    }
   ],
   "source": [
    "# python-poloniexのインストール\n",
    "!pip3 install https://github.com/s4w3d0ff/python-poloniex/archive/v0.4.6.zip"
   ]
  },
  {
   "cell_type": "code",
   "execution_count": 2,
   "metadata": {},
   "outputs": [],
   "source": [
    "import poloniex"
   ]
  },
  {
   "cell_type": "code",
   "execution_count": 3,
   "metadata": {},
   "outputs": [],
   "source": [
    "import time\n",
    "\n",
    "# poloniex APIの準備\n",
    "polo = poloniex.Poloniex()\n",
    "\n",
    "# 5分間隔（サンプリング間隔300秒）で100日分読み込む\n",
    "chart_data = polo.returnChartData('BTC_ETH', period=300, start=time.time()-polo.DAY*100, end=time.time())"
   ]
  },
  {
   "cell_type": "code",
   "execution_count": 4,
   "metadata": {},
   "outputs": [],
   "source": [
    "# pandasのインポート\n",
    "import pandas as pd\n",
    "\n",
    "# pandasにデータの取り込み\n",
    "df = pd.DataFrame(chart_data)"
   ]
  },
  {
   "cell_type": "code",
   "execution_count": 5,
   "metadata": {},
   "outputs": [
    {
     "data": {
      "text/html": [
       "<div>\n",
       "<style scoped>\n",
       "    .dataframe tbody tr th:only-of-type {\n",
       "        vertical-align: middle;\n",
       "    }\n",
       "\n",
       "    .dataframe tbody tr th {\n",
       "        vertical-align: top;\n",
       "    }\n",
       "\n",
       "    .dataframe thead th {\n",
       "        text-align: right;\n",
       "    }\n",
       "</style>\n",
       "<table border=\"1\" class=\"dataframe\">\n",
       "  <thead>\n",
       "    <tr style=\"text-align: right;\">\n",
       "      <th></th>\n",
       "      <th>close</th>\n",
       "      <th>date</th>\n",
       "      <th>high</th>\n",
       "      <th>low</th>\n",
       "      <th>open</th>\n",
       "      <th>quoteVolume</th>\n",
       "      <th>volume</th>\n",
       "      <th>weightedAverage</th>\n",
       "    </tr>\n",
       "  </thead>\n",
       "  <tbody>\n",
       "    <tr>\n",
       "      <th>0</th>\n",
       "      <td>0.08159001</td>\n",
       "      <td>1525490400</td>\n",
       "      <td>0.0817088</td>\n",
       "      <td>0.08150613</td>\n",
       "      <td>0.08150613</td>\n",
       "      <td>6.37859279</td>\n",
       "      <td>0.52032462</td>\n",
       "      <td>0.08157357</td>\n",
       "    </tr>\n",
       "    <tr>\n",
       "      <th>1</th>\n",
       "      <td>0.08158662</td>\n",
       "      <td>1525490700</td>\n",
       "      <td>0.081735</td>\n",
       "      <td>0.08154806</td>\n",
       "      <td>0.08157001</td>\n",
       "      <td>2.34079957</td>\n",
       "      <td>0.19096304</td>\n",
       "      <td>0.08158026</td>\n",
       "    </tr>\n",
       "    <tr>\n",
       "      <th>2</th>\n",
       "      <td>0.08155331</td>\n",
       "      <td>1525491000</td>\n",
       "      <td>0.08181338</td>\n",
       "      <td>0.08154969</td>\n",
       "      <td>0.0816</td>\n",
       "      <td>19.72295078</td>\n",
       "      <td>1.61245027</td>\n",
       "      <td>0.08175502</td>\n",
       "    </tr>\n",
       "    <tr>\n",
       "      <th>3</th>\n",
       "      <td>0.08170027</td>\n",
       "      <td>1525491300</td>\n",
       "      <td>0.08184724</td>\n",
       "      <td>0.08156532</td>\n",
       "      <td>0.08169988</td>\n",
       "      <td>13.67746961</td>\n",
       "      <td>1.11799335</td>\n",
       "      <td>0.08173977</td>\n",
       "    </tr>\n",
       "    <tr>\n",
       "      <th>4</th>\n",
       "      <td>0.08172</td>\n",
       "      <td>1525491600</td>\n",
       "      <td>0.0819099</td>\n",
       "      <td>0.08169527</td>\n",
       "      <td>0.08171</td>\n",
       "      <td>17.59267865</td>\n",
       "      <td>1.43872622</td>\n",
       "      <td>0.08177982</td>\n",
       "    </tr>\n",
       "    <tr>\n",
       "      <th>5</th>\n",
       "      <td>0.081665</td>\n",
       "      <td>1525491900</td>\n",
       "      <td>0.08184693</td>\n",
       "      <td>0.081635</td>\n",
       "      <td>0.08172001</td>\n",
       "      <td>10.86937715</td>\n",
       "      <td>0.88873102</td>\n",
       "      <td>0.08176466</td>\n",
       "    </tr>\n",
       "    <tr>\n",
       "      <th>6</th>\n",
       "      <td>0.0818</td>\n",
       "      <td>1525492200</td>\n",
       "      <td>0.08184799</td>\n",
       "      <td>0.08164025</td>\n",
       "      <td>0.081645</td>\n",
       "      <td>3.07189284</td>\n",
       "      <td>0.2511013</td>\n",
       "      <td>0.08174155</td>\n",
       "    </tr>\n",
       "    <tr>\n",
       "      <th>7</th>\n",
       "      <td>0.081775</td>\n",
       "      <td>1525492500</td>\n",
       "      <td>0.08193395</td>\n",
       "      <td>0.08171054</td>\n",
       "      <td>0.0818</td>\n",
       "      <td>38.40931059</td>\n",
       "      <td>3.14298974</td>\n",
       "      <td>0.08182885</td>\n",
       "    </tr>\n",
       "    <tr>\n",
       "      <th>8</th>\n",
       "      <td>0.08182579</td>\n",
       "      <td>1525492800</td>\n",
       "      <td>0.08193395</td>\n",
       "      <td>0.08174027</td>\n",
       "      <td>0.08178135</td>\n",
       "      <td>37.14440202</td>\n",
       "      <td>3.04246041</td>\n",
       "      <td>0.08190898</td>\n",
       "    </tr>\n",
       "    <tr>\n",
       "      <th>9</th>\n",
       "      <td>0.08191</td>\n",
       "      <td>1525493100</td>\n",
       "      <td>0.08193455</td>\n",
       "      <td>0.08178877</td>\n",
       "      <td>0.08193395</td>\n",
       "      <td>8.16917908</td>\n",
       "      <td>0.66920093</td>\n",
       "      <td>0.08191777</td>\n",
       "    </tr>\n",
       "  </tbody>\n",
       "</table>\n",
       "</div>"
      ],
      "text/plain": [
       "        close        date        high         low        open  quoteVolume  \\\n",
       "0  0.08159001  1525490400   0.0817088  0.08150613  0.08150613   6.37859279   \n",
       "1  0.08158662  1525490700    0.081735  0.08154806  0.08157001   2.34079957   \n",
       "2  0.08155331  1525491000  0.08181338  0.08154969      0.0816  19.72295078   \n",
       "3  0.08170027  1525491300  0.08184724  0.08156532  0.08169988  13.67746961   \n",
       "4     0.08172  1525491600   0.0819099  0.08169527     0.08171  17.59267865   \n",
       "5    0.081665  1525491900  0.08184693    0.081635  0.08172001  10.86937715   \n",
       "6      0.0818  1525492200  0.08184799  0.08164025    0.081645   3.07189284   \n",
       "7    0.081775  1525492500  0.08193395  0.08171054      0.0818  38.40931059   \n",
       "8  0.08182579  1525492800  0.08193395  0.08174027  0.08178135  37.14440202   \n",
       "9     0.08191  1525493100  0.08193455  0.08178877  0.08193395   8.16917908   \n",
       "\n",
       "       volume weightedAverage  \n",
       "0  0.52032462      0.08157357  \n",
       "1  0.19096304      0.08158026  \n",
       "2  1.61245027      0.08175502  \n",
       "3  1.11799335      0.08173977  \n",
       "4  1.43872622      0.08177982  \n",
       "5  0.88873102      0.08176466  \n",
       "6   0.2511013      0.08174155  \n",
       "7  3.14298974      0.08182885  \n",
       "8  3.04246041      0.08190898  \n",
       "9  0.66920093      0.08191777  "
      ]
     },
     "execution_count": 5,
     "metadata": {},
     "output_type": "execute_result"
    }
   ],
   "source": [
    "df.head(10)"
   ]
  },
  {
   "cell_type": "code",
   "execution_count": 6,
   "metadata": {},
   "outputs": [
    {
     "data": {
      "text/plain": [
       "0        0.08159001\n",
       "1        0.08158662\n",
       "2        0.08155331\n",
       "3        0.08170027\n",
       "4           0.08172\n",
       "5          0.081665\n",
       "6            0.0818\n",
       "7          0.081775\n",
       "8        0.08182579\n",
       "9           0.08191\n",
       "10       0.08191001\n",
       "11       0.08186029\n",
       "12        0.0820517\n",
       "13           0.0821\n",
       "14       0.08196705\n",
       "15       0.08237961\n",
       "16         0.082475\n",
       "17           0.0825\n",
       "18           0.0825\n",
       "19           0.0825\n",
       "20       0.08249602\n",
       "21           0.0825\n",
       "22           0.0825\n",
       "23       0.08244182\n",
       "24       0.08248318\n",
       "25       0.08248499\n",
       "26         0.082495\n",
       "27         0.082305\n",
       "28       0.08233906\n",
       "29         0.082305\n",
       "            ...    \n",
       "28770       0.05049\n",
       "28771      0.050435\n",
       "28772       0.05041\n",
       "28773    0.05047619\n",
       "28774    0.05042576\n",
       "28775    0.05041471\n",
       "28776    0.05045065\n",
       "28777    0.05045065\n",
       "28778      0.050536\n",
       "28779    0.05045501\n",
       "28780      0.050415\n",
       "28781       0.05039\n",
       "28782    0.05038373\n",
       "28783      0.050395\n",
       "28784       0.05038\n",
       "28785       0.05042\n",
       "28786      0.050455\n",
       "28787    0.05038072\n",
       "28788       0.05044\n",
       "28789     0.0504602\n",
       "28790     0.0504652\n",
       "28791      0.050425\n",
       "28792       0.05047\n",
       "28793      0.050475\n",
       "28794       0.05043\n",
       "28795       0.05042\n",
       "28796     0.0504352\n",
       "28797       0.05045\n",
       "28798      0.050455\n",
       "28799    0.05043682\n",
       "Name: close, Length: 28800, dtype: object"
      ]
     },
     "execution_count": 6,
     "metadata": {},
     "output_type": "execute_result"
    }
   ],
   "source": [
    "df['close']"
   ]
  },
  {
   "cell_type": "code",
   "execution_count": 12,
   "metadata": {},
   "outputs": [
    {
     "ename": "AttributeError",
     "evalue": "module 'pandas' has no attribute 'rolling_mean'",
     "output_type": "error",
     "traceback": [
      "\u001b[0;31m---------------------------------------------------------------------------\u001b[0m",
      "\u001b[0;31mAttributeError\u001b[0m                            Traceback (most recent call last)",
      "\u001b[0;32m<ipython-input-12-ac3e2205163a>\u001b[0m in \u001b[0;36m<module>\u001b[0;34m()\u001b[0m\n\u001b[1;32m      1\u001b[0m \u001b[0;31m# 短期線：窓幅1日（5分×12×24）\u001b[0m\u001b[0;34m\u001b[0m\u001b[0;34m\u001b[0m\u001b[0m\n\u001b[0;32m----> 2\u001b[0;31m \u001b[0mdata_s\u001b[0m \u001b[0;34m=\u001b[0m \u001b[0mpd\u001b[0m\u001b[0;34m.\u001b[0m\u001b[0mrolling_mean\u001b[0m\u001b[0;34m(\u001b[0m\u001b[0mdf\u001b[0m\u001b[0;34m[\u001b[0m\u001b[0;34m'close'\u001b[0m\u001b[0;34m]\u001b[0m\u001b[0;34m,\u001b[0m \u001b[0;36m12\u001b[0m \u001b[0;34m*\u001b[0m \u001b[0;36m24\u001b[0m\u001b[0;34m)\u001b[0m\u001b[0;34m\u001b[0m\u001b[0m\n\u001b[0m\u001b[1;32m      3\u001b[0m \u001b[0;34m\u001b[0m\u001b[0m\n\u001b[1;32m      4\u001b[0m \u001b[0;31m# 長期線：窓幅5日（5分×12×24×5）\u001b[0m\u001b[0;34m\u001b[0m\u001b[0;34m\u001b[0m\u001b[0m\n\u001b[1;32m      5\u001b[0m \u001b[0mdata_l\u001b[0m \u001b[0;34m=\u001b[0m \u001b[0mpd\u001b[0m\u001b[0;34m.\u001b[0m\u001b[0mrolling_mean\u001b[0m\u001b[0;34m(\u001b[0m\u001b[0mdf\u001b[0m\u001b[0;34m[\u001b[0m\u001b[0;34m'close'\u001b[0m\u001b[0;34m]\u001b[0m\u001b[0;34m,\u001b[0m \u001b[0;36m12\u001b[0m \u001b[0;34m*\u001b[0m \u001b[0;36m24\u001b[0m \u001b[0;34m*\u001b[0m \u001b[0;36m5\u001b[0m\u001b[0;34m)\u001b[0m\u001b[0;34m\u001b[0m\u001b[0m\n",
      "\u001b[0;31mAttributeError\u001b[0m: module 'pandas' has no attribute 'rolling_mean'"
     ]
    }
   ],
   "source": [
    "# 短期線：窓幅1日（5分×12×24）\n",
    "data_s = pd.rolling_mean(df['close'], 12 * 24) \n",
    "\n",
    "# 長期線：窓幅5日（5分×12×24×5）\n",
    "data_l = pd.rolling_mean(df['close'], 12 * 24 * 5)"
   ]
  },
  {
   "cell_type": "code",
   "execution_count": 7,
   "metadata": {},
   "outputs": [
    {
     "name": "stdout",
     "output_type": "stream",
     "text": [
      "Requirement already satisfied: matplotlib in /usr/local/lib/python3.7/site-packages (2.2.2)\r\n",
      "Requirement already satisfied: pyparsing!=2.0.4,!=2.1.2,!=2.1.6,>=2.0.1 in /usr/local/lib/python3.7/site-packages (from matplotlib) (2.2.0)\r\n",
      "Requirement already satisfied: pytz in /usr/local/lib/python3.7/site-packages (from matplotlib) (2018.5)\r\n",
      "Requirement already satisfied: python-dateutil>=2.1 in /usr/local/lib/python3.7/site-packages (from matplotlib) (2.7.3)\r\n",
      "Requirement already satisfied: six>=1.10 in /usr/local/lib/python3.7/site-packages (from matplotlib) (1.11.0)\r\n",
      "Requirement already satisfied: numpy>=1.7.1 in /usr/local/lib/python3.7/site-packages (from matplotlib) (1.15.0)\r\n",
      "Requirement already satisfied: cycler>=0.10 in /usr/local/lib/python3.7/site-packages (from matplotlib) (0.10.0)\r\n",
      "Requirement already satisfied: kiwisolver>=1.0.1 in /usr/local/lib/python3.7/site-packages (from matplotlib) (1.0.1)\r\n",
      "Requirement already satisfied: setuptools in /usr/local/lib/python3.7/site-packages (from kiwisolver>=1.0.1->matplotlib) (40.0.0)\r\n"
     ]
    }
   ],
   "source": [
    "!pip3 install matplotlib\n",
    "\n",
    "# matplotlibの読み込み（エラーが出た時はpip or pip3でインストール）\n",
    "import matplotlib.pyplot as plt"
   ]
  },
  {
   "cell_type": "code",
   "execution_count": null,
   "metadata": {},
   "outputs": [],
   "source": []
  },
  {
   "cell_type": "code",
   "execution_count": null,
   "metadata": {},
   "outputs": [],
   "source": [
    "# 一番簡単なプロット\n",
    "plt.plot(df['close'])\n",
    "plt.show()"
   ]
  },
  {
   "cell_type": "code",
   "execution_count": null,
   "metadata": {},
   "outputs": [],
   "source": []
  },
  {
   "cell_type": "code",
   "execution_count": null,
   "metadata": {},
   "outputs": [],
   "source": []
  },
  {
   "cell_type": "code",
   "execution_count": null,
   "metadata": {},
   "outputs": [],
   "source": []
  },
  {
   "cell_type": "code",
   "execution_count": null,
   "metadata": {},
   "outputs": [],
   "source": []
  }
 ],
 "metadata": {
  "kernelspec": {
   "display_name": "Python 3",
   "language": "python",
   "name": "python3"
  },
  "language_info": {
   "codemirror_mode": {
    "name": "ipython",
    "version": 3
   },
   "file_extension": ".py",
   "mimetype": "text/x-python",
   "name": "python",
   "nbconvert_exporter": "python",
   "pygments_lexer": "ipython3",
   "version": "3.7.0"
  }
 },
 "nbformat": 4,
 "nbformat_minor": 2
}
